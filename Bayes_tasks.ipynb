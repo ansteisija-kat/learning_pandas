{
 "cells": [
  {
   "cell_type": "code",
   "execution_count": null,
   "metadata": {},
   "outputs": [],
   "source": []
  },
  {
   "cell_type": "code",
   "execution_count": 1,
   "metadata": {},
   "outputs": [
    {
     "data": {
      "text/plain": [
       "0.0356"
      ]
     },
     "execution_count": 1,
     "metadata": {},
     "output_type": "execute_result"
    }
   ],
   "source": [
    "# 3.1 (step 3.2)\n",
    "# Из 500 компьютеров  180 принадлежат к 1 партии, 170 – ко второй партии, остальные к третьей.\n",
    "# В первой партии 3% брака, во второй - 2%, в третьей – 6%. Наудачу выбирается один компьютер.\n",
    "# Определить вероятность того, что выбранный компьютер – бракованный.\n",
    "\n",
    "180/500 * 3/100 + 170/500 * 2/100 + 150/500 * 6/100\n",
    "\n",
    "# 0.0356"
   ]
  },
  {
   "cell_type": "code",
   "execution_count": 12,
   "metadata": {},
   "outputs": [
    {
     "data": {
      "text/plain": [
       "0.8586"
      ]
     },
     "execution_count": 12,
     "metadata": {},
     "output_type": "execute_result"
    }
   ],
   "source": [
    "# 3.3 (step)\n",
    "\n",
    "# В компании программистов, которые пишут на языке Java в 3 раза больше, чем программистов на языке C++,\n",
    "# а программистов на языке C++ в 4 раза больше, чем программистов на Python.\n",
    "# Вероятность сделать работу за один день для Java-программиста  0,85, для программиста на языке C++ 0,9,\n",
    "# а для Python программиста 0,8. Найти вероятность того, что программист, выбранный наугад, сделает работу за один день.\n",
    "\n",
    "# x/17x * 0.8 + 12x/17x * 0.85 + 4x/17x * 0.9\n",
    "0.047 + 0.706 * 0.85 + 0.235 * 0.9\n",
    "\n",
    "# 0.8586"
   ]
  },
  {
   "cell_type": "code",
   "execution_count": 19,
   "metadata": {},
   "outputs": [],
   "source": [
    "# 3.4 \n",
    "\n",
    "# Из 40 снайперов 18 попадает в цель с вероятностью 0,9, 8 - с вероятностью 0,4 и 14 – с вероятностью 0,7.\n",
    "# Наудачу выбранный снайпер произвел выстрел, поразив цель.\n",
    "# Мы хотим вычислить, снайпер из какой группы наиболее вероятно совершил этот выстрел. \n",
    "\n",
    "\n",
    "P_x = 18/40 * 0.9 + 8/40 * 0.4 + 14/40 * 0.7 # 0.73\n",
    "P_y1_x = (18/40 * 0.9) / 0.73 # 0.5547945205479452\n",
    "P_y2_x = (8/40 * 0.4) / 0.73 # 0.10958904109589043\n",
    "P_y3_x = (14/40 * 0.7) / 0.73 # 0.33561643835616434"
   ]
  },
  {
   "cell_type": "code",
   "execution_count": 21,
   "metadata": {},
   "outputs": [
    {
     "data": {
      "text/plain": [
       "0.0992063492063492"
      ]
     },
     "execution_count": 21,
     "metadata": {},
     "output_type": "execute_result"
    }
   ],
   "source": [
    "(1/4 * 1/6) / 0.42"
   ]
  },
  {
   "cell_type": "code",
   "execution_count": 27,
   "metadata": {},
   "outputs": [
    {
     "data": {
      "text/plain": [
       "7.0"
      ]
     },
     "execution_count": 27,
     "metadata": {},
     "output_type": "execute_result"
    }
   ],
   "source": [
    "# 3.5\n",
    "\n",
    "# Есть 4 кубика. На трех из них окрашена белым половина граней, а на четвертом кубике всего одна грань из шести белая.\n",
    "# Наудачу выбранный кубик подбрасывается семь раз. Найти вероятность того, что был выбран четвертый кубик,\n",
    "# если при семи подбрасываниях белая грань выпала ровно один раз.\n",
    "\n",
    "num_of_successes(7, 1) # 7"
   ]
  },
  {
   "cell_type": "code",
   "execution_count": 22,
   "metadata": {},
   "outputs": [],
   "source": [
    "from math import factorial\n",
    "\n",
    "def num_of_successes(n, k):\n",
    "    return factorial(n)/(factorial(k) * factorial(n - k))"
   ]
  },
  {
   "cell_type": "code",
   "execution_count": 25,
   "metadata": {},
   "outputs": [],
   "source": [
    "# формула Бернулли\n",
    "# PB – вероятность по Бернулли :)\n",
    "# n - общее число (бросков)\n",
    "# k - количество (бросков) с нужным нам результатом\n",
    "# p - вероятность нужного нам результата\n",
    "# q - вероятность ненужного нам результата (или другая вероятность)\n",
    "# С - число сочетаний (биномиальный коэффициент)\n",
    "# num_of_successes = С\n",
    "\n",
    "def bernulli_pb(num_of_successes,p,n,k,q):\n",
    "    PB = num_of_successes * (p**k * q**(n-k))\n",
    "    return PB"
   ]
  },
  {
   "cell_type": "code",
   "execution_count": 32,
   "metadata": {},
   "outputs": [
    {
     "data": {
      "text/plain": [
       "0.39071430612711483"
      ]
     },
     "execution_count": 32,
     "metadata": {},
     "output_type": "execute_result"
    }
   ],
   "source": [
    "bernulli_pb(7,1/6,7,1,5/6) \n",
    "# у 3/4 кубиков = 0.055\n",
    "# у 1/4 кубиков = 0.391"
   ]
  },
  {
   "cell_type": "code",
   "execution_count": 35,
   "metadata": {},
   "outputs": [],
   "source": [
    "# P_A - общая вероятность события \"при 7 бросках белая грань выпала 1 раз\"\n",
    "# P_A_H2 - вероятность, что 1 белая грань выпала при условии, что это куб 2 типа (1/4, четвертый куб)\n",
    "# P_A_H1 - вероятность, что 1 белая грань выпала при условии, что это куб 1 типа (3/4, 1-3 кубы)\n",
    "\n",
    "P_A = 3/4 * 0.055 + 1/4 * 0.391 # 0.139"
   ]
  },
  {
   "cell_type": "code",
   "execution_count": null,
   "metadata": {},
   "outputs": [],
   "source": []
  },
  {
   "cell_type": "code",
   "execution_count": 37,
   "metadata": {},
   "outputs": [],
   "source": [
    "# 3.6\n",
    "# На гитхабе лежит 12 скриптов, написанных аналитиком №1, 20 скриптов -  написанных аналитиком №2\n",
    "# и 18 скриптов - написанных аналитиком №3.\n",
    "# Вероятность того, что скрипт, написанный аналитиком №1, работает  без ошибок, равна 0,9;\n",
    "# для скриптов, написанных аналитиками  №2 и №3, эти вероятности соответственно равны 0,6 и 0,9.\n",
    "\n",
    "# Нужно найти вероятность того, что случайно взятый скрипт будет работать без ошибок. "
   ]
  },
  {
   "cell_type": "code",
   "execution_count": 39,
   "metadata": {},
   "outputs": [],
   "source": [
    "P_A = 12/50 * 0.9 + 20/50 * 0.6 + 18/50 * 0.9 \n",
    "# 0.78"
   ]
  },
  {
   "cell_type": "code",
   "execution_count": null,
   "metadata": {},
   "outputs": [],
   "source": [
    "# 3.7\n",
    "# Известно, что около 60% всех людей в городе болеют заболеванием А.\n",
    "# Для определения того, заболел человек или нет, проводится тест, точность которого составляет 99%.\n",
    "# Вы получили положительный тест, какова вероятность того, что вы реально больны?\n"
   ]
  },
  {
   "cell_type": "code",
   "execution_count": 41,
   "metadata": {},
   "outputs": [],
   "source": [
    "P_A = 0.6 * 0.99 + 0.4 * 0.01 # 0.598"
   ]
  },
  {
   "cell_type": "code",
   "execution_count": 44,
   "metadata": {},
   "outputs": [],
   "source": [
    "P_H1_A = 0.6 * 0.99 / 0.598 # 0.993"
   ]
  },
  {
   "cell_type": "code",
   "execution_count": null,
   "metadata": {},
   "outputs": [],
   "source": [
    "# 3.8\n",
    "# Три фабрики производят лампочки. Фабрика А производит 20% всех лампочек,\n",
    "# 50% лампочек производится на фабрике В и оставшиеся 30% на фабрике С.\n",
    "# 2% лампочек, произведенных на фабрике А, 1% лампочек, произведенных на фабрике В, и 3% лампочек, произведенных на фабрике С,\n",
    "# являются бракованными.\n",
    "# На рынке наугад выбирается лампочка и оказывается бракованной.\n",
    "# Какова вероятность того, что эта лампочка была произведена на заводе B?"
   ]
  },
  {
   "cell_type": "code",
   "execution_count": 46,
   "metadata": {},
   "outputs": [],
   "source": [
    "P_A = 0.2 * 0.02 + 0.5 * 0.01 + 0.3 * 0.03 # 0.0180"
   ]
  },
  {
   "cell_type": "code",
   "execution_count": 48,
   "metadata": {},
   "outputs": [],
   "source": [
    "P_H2_A = 0.5 * 0.01 / 0.018 # 0.2777777777777778"
   ]
  },
  {
   "cell_type": "code",
   "execution_count": null,
   "metadata": {},
   "outputs": [],
   "source": []
  },
  {
   "cell_type": "code",
   "execution_count": null,
   "metadata": {},
   "outputs": [],
   "source": []
  },
  {
   "cell_type": "code",
   "execution_count": null,
   "metadata": {},
   "outputs": [],
   "source": []
  }
 ],
 "metadata": {
  "kernelspec": {
   "display_name": "Python 3",
   "language": "python",
   "name": "python3"
  },
  "language_info": {
   "codemirror_mode": {
    "name": "ipython",
    "version": 3
   },
   "file_extension": ".py",
   "mimetype": "text/x-python",
   "name": "python",
   "nbconvert_exporter": "python",
   "pygments_lexer": "ipython3",
   "version": "3.7.3"
  }
 },
 "nbformat": 4,
 "nbformat_minor": 4
}
